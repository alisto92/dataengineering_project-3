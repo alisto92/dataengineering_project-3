{
 "cells": [
  {
   "cell_type": "markdown",
   "metadata": {},
   "source": [
    "# Project 3: Understanding User Behavior\n",
    "## Alissa Stover\n",
    "## Due April 14th, 2020"
   ]
  },
  {
   "cell_type": "markdown",
   "metadata": {},
   "source": [
    "## Pipeline up to here\n",
    "\n",
    "There are previous steps in the pipeline that exist before this step. This process exists within a Docker container. These prior processes use:\n",
    "\n",
    "- Kafka to stream an \"events\" topic.\n",
    "- Flask to instrument the API server\n",
    "- Apache Bench to generate the test data analyzed below\n"
   ]
  },
  {
   "cell_type": "markdown",
   "metadata": {},
   "source": [
    "## Spark Streaming \n",
    "\n",
    "In this section, I use Spark streaming to filter select event types from Kafka and land them into HDFS/parquet to make them available for analysis using Presto. "
   ]
  },
  {
   "cell_type": "code",
   "execution_count": 1,
   "metadata": {
    "collapsed": true
   },
   "outputs": [],
   "source": [
    "# import modules and functions\n",
    "import json\n",
    "from pyspark.sql import Row\n",
    "from pyspark.sql.functions import udf"
   ]
  },
  {
   "cell_type": "markdown",
   "metadata": {
    "collapsed": true,
    "jupyter": {
     "outputs_hidden": true
    }
   },
   "source": [
    "### Read in raw events\n",
    "\n",
    "This section uses Spark to read in raw events from Kafka. "
   ]
  },
  {
   "cell_type": "code",
   "execution_count": 2,
   "metadata": {
    "collapsed": true,
    "jupyter": {
     "outputs_hidden": true
    }
   },
   "outputs": [],
   "source": [
    "# load raw events\n",
    "raw_events = spark \\\n",
    "        .read \\\n",
    "        .format(\"kafka\") \\\n",
    "        .option(\"kafka.bootstrap.servers\", \"kafka:29092\") \\\n",
    "        .option(\"subscribe\", \"events\") \\\n",
    "        .option(\"startingOffsets\", \"earliest\") \\\n",
    "        .option(\"endingOffsets\", \"latest\") \\\n",
    "        .load()"
   ]
  },
  {
   "cell_type": "code",
   "execution_count": 3,
   "metadata": {},
   "outputs": [
    {
     "name": "stdout",
     "output_type": "stream",
     "text": [
      "+----+--------------------+------+---------+------+--------------------+-------------+\n",
      "| key|               value| topic|partition|offset|           timestamp|timestampType|\n",
      "+----+--------------------+------+---------+------+--------------------+-------------+\n",
      "|null|[7B 22 48 6F 73 7...|events|        0|     0|2020-04-13 01:25:...|            0|\n",
      "|null|[7B 22 48 6F 73 7...|events|        0|     1|2020-04-13 01:25:...|            0|\n",
      "|null|[7B 22 48 6F 73 7...|events|        0|     2|2020-04-13 01:25:...|            0|\n",
      "|null|[7B 22 48 6F 73 7...|events|        0|     3|2020-04-13 01:25:...|            0|\n",
      "|null|[7B 22 48 6F 73 7...|events|        0|     4|2020-04-13 01:25:...|            0|\n",
      "|null|[7B 22 48 6F 73 7...|events|        0|     5|2020-04-13 01:25:...|            0|\n",
      "|null|[7B 22 48 6F 73 7...|events|        0|     6|2020-04-13 01:25:...|            0|\n",
      "|null|[7B 22 48 6F 73 7...|events|        0|     7|2020-04-13 01:25:...|            0|\n",
      "|null|[7B 22 48 6F 73 7...|events|        0|     8|2020-04-13 01:25:...|            0|\n",
      "|null|[7B 22 48 6F 73 7...|events|        0|     9|2020-04-13 01:25:...|            0|\n",
      "|null|[7B 22 48 6F 73 7...|events|        0|    10|2020-04-13 01:25:...|            0|\n",
      "|null|[7B 22 48 6F 73 7...|events|        0|    11|2020-04-13 01:25:...|            0|\n",
      "|null|[7B 22 48 6F 73 7...|events|        0|    12|2020-04-13 01:25:...|            0|\n",
      "|null|[7B 22 48 6F 73 7...|events|        0|    13|2020-04-13 01:25:...|            0|\n",
      "|null|[7B 22 48 6F 73 7...|events|        0|    14|2020-04-13 01:25:...|            0|\n",
      "|null|[7B 22 48 6F 73 7...|events|        0|    15|2020-04-13 01:25:...|            0|\n",
      "|null|[7B 22 48 6F 73 7...|events|        0|    16|2020-04-13 01:25:...|            0|\n",
      "|null|[7B 22 48 6F 73 7...|events|        0|    17|2020-04-13 01:25:...|            0|\n",
      "|null|[7B 22 48 6F 73 7...|events|        0|    18|2020-04-13 01:25:...|            0|\n",
      "|null|[7B 22 48 6F 73 7...|events|        0|    19|2020-04-13 01:25:...|            0|\n",
      "+----+--------------------+------+---------+------+--------------------+-------------+\n",
      "only showing top 20 rows\n",
      "\n"
     ]
    }
   ],
   "source": [
    "# view raw events\n",
    "raw_events.show()"
   ]
  },
  {
   "cell_type": "markdown",
   "metadata": {},
   "source": [
    "### Filter to select \"purchase_sword\" events\n",
    "\n",
    "In this section, I filter the Kafka events such that I remove all but the purchase_sword events. "
   ]
  },
  {
   "cell_type": "code",
   "execution_count": 4,
   "metadata": {
    "collapsed": true
   },
   "outputs": [],
   "source": [
    "# define predicate \n",
    "@udf('boolean')\n",
    "def is_purchase(event_as_json):\n",
    "    event = json.loads(event_as_json)\n",
    "    if event['event_type'] == 'purchase_sword':\n",
    "        return True\n",
    "    return False"
   ]
  },
  {
   "cell_type": "code",
   "execution_count": 5,
   "metadata": {
    "collapsed": true,
    "jupyter": {
     "outputs_hidden": true
    }
   },
   "outputs": [],
   "source": [
    "# extract purchase from raw events\n",
    "purchase_events = raw_events \\\n",
    "        .select(raw_events.value.cast('string').alias('raw'),\n",
    "                raw_events.timestamp.cast('string')) \\\n",
    "        .filter(is_purchase('raw'))"
   ]
  },
  {
   "cell_type": "code",
   "execution_count": 6,
   "metadata": {},
   "outputs": [
    {
     "name": "stdout",
     "output_type": "stream",
     "text": [
      "root\n",
      " |-- raw: string (nullable = true)\n",
      " |-- timestamp: string (nullable = true)\n",
      "\n"
     ]
    }
   ],
   "source": [
    "# view purchase events schema\n",
    "purchase_events.printSchema()"
   ]
  },
  {
   "cell_type": "code",
   "execution_count": 7,
   "metadata": {},
   "outputs": [
    {
     "name": "stdout",
     "output_type": "stream",
     "text": [
      "+--------------------+--------------------+\n",
      "|                 raw|           timestamp|\n",
      "+--------------------+--------------------+\n",
      "|{\"Host\": \"user1.c...|2020-04-13 01:25:...|\n",
      "|{\"Host\": \"user1.c...|2020-04-13 01:25:...|\n",
      "|{\"Host\": \"user1.c...|2020-04-13 01:25:...|\n",
      "|{\"Host\": \"user1.c...|2020-04-13 01:25:...|\n",
      "|{\"Host\": \"user1.c...|2020-04-13 01:25:...|\n",
      "|{\"Host\": \"user1.c...|2020-04-13 01:25:...|\n",
      "|{\"Host\": \"user1.c...|2020-04-13 01:25:...|\n",
      "|{\"Host\": \"user1.c...|2020-04-13 01:25:...|\n",
      "|{\"Host\": \"user1.c...|2020-04-13 01:25:...|\n",
      "|{\"Host\": \"user1.c...|2020-04-13 01:25:...|\n",
      "|{\"Host\": \"user2.a...|2020-04-13 01:25:...|\n",
      "|{\"Host\": \"user2.a...|2020-04-13 01:25:...|\n",
      "|{\"Host\": \"user2.a...|2020-04-13 01:25:...|\n",
      "|{\"Host\": \"user2.a...|2020-04-13 01:25:...|\n",
      "|{\"Host\": \"user2.a...|2020-04-13 01:25:...|\n",
      "|{\"Host\": \"user2.a...|2020-04-13 01:25:...|\n",
      "|{\"Host\": \"user2.a...|2020-04-13 01:25:...|\n",
      "|{\"Host\": \"user2.a...|2020-04-13 01:25:...|\n",
      "|{\"Host\": \"user2.a...|2020-04-13 01:25:...|\n",
      "|{\"Host\": \"user2.a...|2020-04-13 01:25:...|\n",
      "+--------------------+--------------------+\n",
      "\n"
     ]
    }
   ],
   "source": [
    "# view purchase events\n",
    "purchase_events.show()"
   ]
  },
  {
   "cell_type": "code",
   "execution_count": 8,
   "metadata": {
    "collapsed": true
   },
   "outputs": [],
   "source": [
    "# lambda function\n",
    "extracted_purchase_events = purchase_events \\\n",
    "        .rdd \\\n",
    "        .map(lambda r: Row(timestamp=r.timestamp, **json.loads(r.raw))) \\\n",
    "        .toDF()\n"
   ]
  },
  {
   "cell_type": "code",
   "execution_count": 9,
   "metadata": {},
   "outputs": [
    {
     "name": "stdout",
     "output_type": "stream",
     "text": [
      "root\n",
      " |-- Accept: string (nullable = true)\n",
      " |-- Host: string (nullable = true)\n",
      " |-- User-Agent: string (nullable = true)\n",
      " |-- event_type: string (nullable = true)\n",
      " |-- timestamp: string (nullable = true)\n",
      "\n"
     ]
    }
   ],
   "source": [
    "# view extracted purchases schema\n",
    "extracted_purchase_events.printSchema()"
   ]
  },
  {
   "cell_type": "code",
   "execution_count": 10,
   "metadata": {},
   "outputs": [
    {
     "name": "stdout",
     "output_type": "stream",
     "text": [
      "+------+-----------------+---------------+--------------+--------------------+\n",
      "|Accept|             Host|     User-Agent|    event_type|           timestamp|\n",
      "+------+-----------------+---------------+--------------+--------------------+\n",
      "|   */*|user1.comcast.com|ApacheBench/2.3|purchase_sword|2020-04-13 01:25:...|\n",
      "|   */*|user1.comcast.com|ApacheBench/2.3|purchase_sword|2020-04-13 01:25:...|\n",
      "|   */*|user1.comcast.com|ApacheBench/2.3|purchase_sword|2020-04-13 01:25:...|\n",
      "|   */*|user1.comcast.com|ApacheBench/2.3|purchase_sword|2020-04-13 01:25:...|\n",
      "|   */*|user1.comcast.com|ApacheBench/2.3|purchase_sword|2020-04-13 01:25:...|\n",
      "|   */*|user1.comcast.com|ApacheBench/2.3|purchase_sword|2020-04-13 01:25:...|\n",
      "|   */*|user1.comcast.com|ApacheBench/2.3|purchase_sword|2020-04-13 01:25:...|\n",
      "|   */*|user1.comcast.com|ApacheBench/2.3|purchase_sword|2020-04-13 01:25:...|\n",
      "|   */*|user1.comcast.com|ApacheBench/2.3|purchase_sword|2020-04-13 01:25:...|\n",
      "|   */*|user1.comcast.com|ApacheBench/2.3|purchase_sword|2020-04-13 01:25:...|\n",
      "|   */*|    user2.att.com|ApacheBench/2.3|purchase_sword|2020-04-13 01:25:...|\n",
      "|   */*|    user2.att.com|ApacheBench/2.3|purchase_sword|2020-04-13 01:25:...|\n",
      "|   */*|    user2.att.com|ApacheBench/2.3|purchase_sword|2020-04-13 01:25:...|\n",
      "|   */*|    user2.att.com|ApacheBench/2.3|purchase_sword|2020-04-13 01:25:...|\n",
      "|   */*|    user2.att.com|ApacheBench/2.3|purchase_sword|2020-04-13 01:25:...|\n",
      "|   */*|    user2.att.com|ApacheBench/2.3|purchase_sword|2020-04-13 01:25:...|\n",
      "|   */*|    user2.att.com|ApacheBench/2.3|purchase_sword|2020-04-13 01:25:...|\n",
      "|   */*|    user2.att.com|ApacheBench/2.3|purchase_sword|2020-04-13 01:25:...|\n",
      "|   */*|    user2.att.com|ApacheBench/2.3|purchase_sword|2020-04-13 01:25:...|\n",
      "|   */*|    user2.att.com|ApacheBench/2.3|purchase_sword|2020-04-13 01:25:...|\n",
      "+------+-----------------+---------------+--------------+--------------------+\n",
      "\n"
     ]
    }
   ],
   "source": [
    "# view extracted purchases\n",
    "extracted_purchase_events.show()"
   ]
  },
  {
   "cell_type": "code",
   "execution_count": 11,
   "metadata": {
    "collapsed": true,
    "jupyter": {
     "outputs_hidden": true
    }
   },
   "outputs": [],
   "source": [
    "# write to parquet file\n",
    "extracted_purchase_events \\\n",
    "        .write \\\n",
    "        .mode('overwrite') \\\n",
    "        .parquet('/tmp/purchases')"
   ]
  },
  {
   "cell_type": "code",
   "execution_count": 12,
   "metadata": {
    "collapsed": true,
    "jupyter": {
     "outputs_hidden": true
    }
   },
   "outputs": [],
   "source": [
    "# read in from parquet file\n",
    "purchases = spark.read.parquet('/tmp/purchases')"
   ]
  },
  {
   "cell_type": "code",
   "execution_count": 13,
   "metadata": {},
   "outputs": [
    {
     "name": "stdout",
     "output_type": "stream",
     "text": [
      "+------+-----------------+---------------+--------------+--------------------+\n",
      "|Accept|             Host|     User-Agent|    event_type|           timestamp|\n",
      "+------+-----------------+---------------+--------------+--------------------+\n",
      "|   */*|user1.comcast.com|ApacheBench/2.3|purchase_sword|2020-04-13 01:25:...|\n",
      "|   */*|user1.comcast.com|ApacheBench/2.3|purchase_sword|2020-04-13 01:25:...|\n",
      "|   */*|user1.comcast.com|ApacheBench/2.3|purchase_sword|2020-04-13 01:25:...|\n",
      "|   */*|user1.comcast.com|ApacheBench/2.3|purchase_sword|2020-04-13 01:25:...|\n",
      "|   */*|user1.comcast.com|ApacheBench/2.3|purchase_sword|2020-04-13 01:25:...|\n",
      "|   */*|user1.comcast.com|ApacheBench/2.3|purchase_sword|2020-04-13 01:25:...|\n",
      "|   */*|user1.comcast.com|ApacheBench/2.3|purchase_sword|2020-04-13 01:25:...|\n",
      "|   */*|user1.comcast.com|ApacheBench/2.3|purchase_sword|2020-04-13 01:25:...|\n",
      "|   */*|user1.comcast.com|ApacheBench/2.3|purchase_sword|2020-04-13 01:25:...|\n",
      "|   */*|user1.comcast.com|ApacheBench/2.3|purchase_sword|2020-04-13 01:25:...|\n",
      "|   */*|    user2.att.com|ApacheBench/2.3|purchase_sword|2020-04-13 01:25:...|\n",
      "|   */*|    user2.att.com|ApacheBench/2.3|purchase_sword|2020-04-13 01:25:...|\n",
      "|   */*|    user2.att.com|ApacheBench/2.3|purchase_sword|2020-04-13 01:25:...|\n",
      "|   */*|    user2.att.com|ApacheBench/2.3|purchase_sword|2020-04-13 01:25:...|\n",
      "|   */*|    user2.att.com|ApacheBench/2.3|purchase_sword|2020-04-13 01:25:...|\n",
      "|   */*|    user2.att.com|ApacheBench/2.3|purchase_sword|2020-04-13 01:25:...|\n",
      "|   */*|    user2.att.com|ApacheBench/2.3|purchase_sword|2020-04-13 01:25:...|\n",
      "|   */*|    user2.att.com|ApacheBench/2.3|purchase_sword|2020-04-13 01:25:...|\n",
      "|   */*|    user2.att.com|ApacheBench/2.3|purchase_sword|2020-04-13 01:25:...|\n",
      "|   */*|    user2.att.com|ApacheBench/2.3|purchase_sword|2020-04-13 01:25:...|\n",
      "+------+-----------------+---------------+--------------+--------------------+\n",
      "\n"
     ]
    }
   ],
   "source": [
    "# view purchases\n",
    "purchases.show()"
   ]
  },
  {
   "cell_type": "code",
   "execution_count": 14,
   "metadata": {
    "collapsed": true,
    "jupyter": {
     "outputs_hidden": true
    }
   },
   "outputs": [],
   "source": [
    "# register temp table\n",
    "purchases.registerTempTable('purchases')"
   ]
  },
  {
   "cell_type": "code",
   "execution_count": 15,
   "metadata": {
    "collapsed": true,
    "jupyter": {
     "outputs_hidden": true
    }
   },
   "outputs": [],
   "source": [
    "# query with spark sql\n",
    "purchases_by_example2 = spark.sql(\"select * from purchases where Host = 'user1.comcast.com'\")"
   ]
  },
  {
   "cell_type": "code",
   "execution_count": 16,
   "metadata": {},
   "outputs": [
    {
     "name": "stdout",
     "output_type": "stream",
     "text": [
      "+------+-----------------+---------------+--------------+--------------------+\n",
      "|Accept|             Host|     User-Agent|    event_type|           timestamp|\n",
      "+------+-----------------+---------------+--------------+--------------------+\n",
      "|   */*|user1.comcast.com|ApacheBench/2.3|purchase_sword|2020-04-13 01:25:...|\n",
      "|   */*|user1.comcast.com|ApacheBench/2.3|purchase_sword|2020-04-13 01:25:...|\n",
      "|   */*|user1.comcast.com|ApacheBench/2.3|purchase_sword|2020-04-13 01:25:...|\n",
      "|   */*|user1.comcast.com|ApacheBench/2.3|purchase_sword|2020-04-13 01:25:...|\n",
      "|   */*|user1.comcast.com|ApacheBench/2.3|purchase_sword|2020-04-13 01:25:...|\n",
      "|   */*|user1.comcast.com|ApacheBench/2.3|purchase_sword|2020-04-13 01:25:...|\n",
      "|   */*|user1.comcast.com|ApacheBench/2.3|purchase_sword|2020-04-13 01:25:...|\n",
      "|   */*|user1.comcast.com|ApacheBench/2.3|purchase_sword|2020-04-13 01:25:...|\n",
      "|   */*|user1.comcast.com|ApacheBench/2.3|purchase_sword|2020-04-13 01:25:...|\n",
      "|   */*|user1.comcast.com|ApacheBench/2.3|purchase_sword|2020-04-13 01:25:...|\n",
      "+------+-----------------+---------------+--------------+--------------------+\n",
      "\n"
     ]
    }
   ],
   "source": [
    "# view purchases\n",
    "purchases_by_example2.show()"
   ]
  },
  {
   "cell_type": "code",
   "execution_count": 17,
   "metadata": {
    "collapsed": true,
    "jupyter": {
     "outputs_hidden": true
    }
   },
   "outputs": [],
   "source": [
    "# convert to python pandas dataframe\n",
    "df = purchases_by_example2.toPandas()"
   ]
  },
  {
   "cell_type": "code",
   "execution_count": 18,
   "metadata": {},
   "outputs": [
    {
     "data": {
      "text/html": [
       "<div>\n",
       "<style>\n",
       "    .dataframe thead tr:only-child th {\n",
       "        text-align: right;\n",
       "    }\n",
       "\n",
       "    .dataframe thead th {\n",
       "        text-align: left;\n",
       "    }\n",
       "\n",
       "    .dataframe tbody tr th {\n",
       "        vertical-align: top;\n",
       "    }\n",
       "</style>\n",
       "<table border=\"1\" class=\"dataframe\">\n",
       "  <thead>\n",
       "    <tr style=\"text-align: right;\">\n",
       "      <th></th>\n",
       "      <th>Accept</th>\n",
       "      <th>Host</th>\n",
       "      <th>User-Agent</th>\n",
       "      <th>event_type</th>\n",
       "      <th>timestamp</th>\n",
       "    </tr>\n",
       "  </thead>\n",
       "  <tbody>\n",
       "    <tr>\n",
       "      <th>0</th>\n",
       "      <td>*/*</td>\n",
       "      <td>user1.comcast.com</td>\n",
       "      <td>ApacheBench/2.3</td>\n",
       "      <td>purchase_sword</td>\n",
       "      <td>2020-04-13 01:25:25.149</td>\n",
       "    </tr>\n",
       "    <tr>\n",
       "      <th>1</th>\n",
       "      <td>*/*</td>\n",
       "      <td>user1.comcast.com</td>\n",
       "      <td>ApacheBench/2.3</td>\n",
       "      <td>purchase_sword</td>\n",
       "      <td>2020-04-13 01:25:25.153</td>\n",
       "    </tr>\n",
       "    <tr>\n",
       "      <th>2</th>\n",
       "      <td>*/*</td>\n",
       "      <td>user1.comcast.com</td>\n",
       "      <td>ApacheBench/2.3</td>\n",
       "      <td>purchase_sword</td>\n",
       "      <td>2020-04-13 01:25:25.156</td>\n",
       "    </tr>\n",
       "    <tr>\n",
       "      <th>3</th>\n",
       "      <td>*/*</td>\n",
       "      <td>user1.comcast.com</td>\n",
       "      <td>ApacheBench/2.3</td>\n",
       "      <td>purchase_sword</td>\n",
       "      <td>2020-04-13 01:25:25.158</td>\n",
       "    </tr>\n",
       "    <tr>\n",
       "      <th>4</th>\n",
       "      <td>*/*</td>\n",
       "      <td>user1.comcast.com</td>\n",
       "      <td>ApacheBench/2.3</td>\n",
       "      <td>purchase_sword</td>\n",
       "      <td>2020-04-13 01:25:25.162</td>\n",
       "    </tr>\n",
       "    <tr>\n",
       "      <th>5</th>\n",
       "      <td>*/*</td>\n",
       "      <td>user1.comcast.com</td>\n",
       "      <td>ApacheBench/2.3</td>\n",
       "      <td>purchase_sword</td>\n",
       "      <td>2020-04-13 01:25:25.167</td>\n",
       "    </tr>\n",
       "    <tr>\n",
       "      <th>6</th>\n",
       "      <td>*/*</td>\n",
       "      <td>user1.comcast.com</td>\n",
       "      <td>ApacheBench/2.3</td>\n",
       "      <td>purchase_sword</td>\n",
       "      <td>2020-04-13 01:25:25.172</td>\n",
       "    </tr>\n",
       "    <tr>\n",
       "      <th>7</th>\n",
       "      <td>*/*</td>\n",
       "      <td>user1.comcast.com</td>\n",
       "      <td>ApacheBench/2.3</td>\n",
       "      <td>purchase_sword</td>\n",
       "      <td>2020-04-13 01:25:25.179</td>\n",
       "    </tr>\n",
       "    <tr>\n",
       "      <th>8</th>\n",
       "      <td>*/*</td>\n",
       "      <td>user1.comcast.com</td>\n",
       "      <td>ApacheBench/2.3</td>\n",
       "      <td>purchase_sword</td>\n",
       "      <td>2020-04-13 01:25:25.183</td>\n",
       "    </tr>\n",
       "    <tr>\n",
       "      <th>9</th>\n",
       "      <td>*/*</td>\n",
       "      <td>user1.comcast.com</td>\n",
       "      <td>ApacheBench/2.3</td>\n",
       "      <td>purchase_sword</td>\n",
       "      <td>2020-04-13 01:25:25.186</td>\n",
       "    </tr>\n",
       "  </tbody>\n",
       "</table>\n",
       "</div>"
      ],
      "text/plain": [
       "  Accept               Host       User-Agent      event_type  \\\n",
       "0    */*  user1.comcast.com  ApacheBench/2.3  purchase_sword   \n",
       "1    */*  user1.comcast.com  ApacheBench/2.3  purchase_sword   \n",
       "2    */*  user1.comcast.com  ApacheBench/2.3  purchase_sword   \n",
       "3    */*  user1.comcast.com  ApacheBench/2.3  purchase_sword   \n",
       "4    */*  user1.comcast.com  ApacheBench/2.3  purchase_sword   \n",
       "5    */*  user1.comcast.com  ApacheBench/2.3  purchase_sword   \n",
       "6    */*  user1.comcast.com  ApacheBench/2.3  purchase_sword   \n",
       "7    */*  user1.comcast.com  ApacheBench/2.3  purchase_sword   \n",
       "8    */*  user1.comcast.com  ApacheBench/2.3  purchase_sword   \n",
       "9    */*  user1.comcast.com  ApacheBench/2.3  purchase_sword   \n",
       "\n",
       "                 timestamp  \n",
       "0  2020-04-13 01:25:25.149  \n",
       "1  2020-04-13 01:25:25.153  \n",
       "2  2020-04-13 01:25:25.156  \n",
       "3  2020-04-13 01:25:25.158  \n",
       "4  2020-04-13 01:25:25.162  \n",
       "5  2020-04-13 01:25:25.167  \n",
       "6  2020-04-13 01:25:25.172  \n",
       "7  2020-04-13 01:25:25.179  \n",
       "8  2020-04-13 01:25:25.183  \n",
       "9  2020-04-13 01:25:25.186  "
      ]
     },
     "execution_count": 18,
     "metadata": {},
     "output_type": "execute_result"
    }
   ],
   "source": [
    "# view pandas dataframe\n",
    "df"
   ]
  },
  {
   "cell_type": "markdown",
   "metadata": {},
   "source": [
    "### Analysis\n",
    "\n",
    "In this section, I perform some basic analyses about the purchase_sword events. This code can be used to generate similar descriptions of other events generated using this same pipeline. "
   ]
  },
  {
   "cell_type": "code",
   "execution_count": 19,
   "metadata": {
    "collapsed": true
   },
   "outputs": [],
   "source": [
    "# import pandas for easier analysis of file\n",
    "import pandas as pd"
   ]
  },
  {
   "cell_type": "code",
   "execution_count": 20,
   "metadata": {},
   "outputs": [
    {
     "data": {
      "text/html": [
       "<div>\n",
       "<style>\n",
       "    .dataframe thead tr:only-child th {\n",
       "        text-align: right;\n",
       "    }\n",
       "\n",
       "    .dataframe thead th {\n",
       "        text-align: left;\n",
       "    }\n",
       "\n",
       "    .dataframe tbody tr th {\n",
       "        vertical-align: top;\n",
       "    }\n",
       "</style>\n",
       "<table border=\"1\" class=\"dataframe\">\n",
       "  <thead>\n",
       "    <tr style=\"text-align: right;\">\n",
       "      <th></th>\n",
       "      <th>Accept</th>\n",
       "      <th>Host</th>\n",
       "      <th>User-Agent</th>\n",
       "      <th>event_type</th>\n",
       "      <th>timestamp</th>\n",
       "    </tr>\n",
       "  </thead>\n",
       "  <tbody>\n",
       "    <tr>\n",
       "      <th>count</th>\n",
       "      <td>10</td>\n",
       "      <td>10</td>\n",
       "      <td>10</td>\n",
       "      <td>10</td>\n",
       "      <td>10</td>\n",
       "    </tr>\n",
       "    <tr>\n",
       "      <th>unique</th>\n",
       "      <td>1</td>\n",
       "      <td>1</td>\n",
       "      <td>1</td>\n",
       "      <td>1</td>\n",
       "      <td>10</td>\n",
       "    </tr>\n",
       "    <tr>\n",
       "      <th>top</th>\n",
       "      <td>*/*</td>\n",
       "      <td>user1.comcast.com</td>\n",
       "      <td>ApacheBench/2.3</td>\n",
       "      <td>purchase_sword</td>\n",
       "      <td>2020-04-13 01:25:25.167</td>\n",
       "    </tr>\n",
       "    <tr>\n",
       "      <th>freq</th>\n",
       "      <td>10</td>\n",
       "      <td>10</td>\n",
       "      <td>10</td>\n",
       "      <td>10</td>\n",
       "      <td>1</td>\n",
       "    </tr>\n",
       "  </tbody>\n",
       "</table>\n",
       "</div>"
      ],
      "text/plain": [
       "       Accept               Host       User-Agent      event_type  \\\n",
       "count      10                 10               10              10   \n",
       "unique      1                  1                1               1   \n",
       "top       */*  user1.comcast.com  ApacheBench/2.3  purchase_sword   \n",
       "freq       10                 10               10              10   \n",
       "\n",
       "                      timestamp  \n",
       "count                        10  \n",
       "unique                       10  \n",
       "top     2020-04-13 01:25:25.167  \n",
       "freq                          1  "
      ]
     },
     "execution_count": 20,
     "metadata": {},
     "output_type": "execute_result"
    }
   ],
   "source": [
    "# view descriptive stats \n",
    "df.describe()"
   ]
  },
  {
   "cell_type": "markdown",
   "metadata": {
    "collapsed": true,
    "jupyter": {
     "outputs_hidden": true
    }
   },
   "source": [
    "#### How many unique users are represented in this dataframe? What are their host name(s)? "
   ]
  },
  {
   "cell_type": "code",
   "execution_count": 21,
   "metadata": {},
   "outputs": [
    {
     "data": {
      "text/plain": [
       "array(['user1.comcast.com'], dtype=object)"
      ]
     },
     "execution_count": 21,
     "metadata": {},
     "output_type": "execute_result"
    }
   ],
   "source": [
    "df['Host'].unique()"
   ]
  },
  {
   "cell_type": "markdown",
   "metadata": {},
   "source": [
    "#### How many unique event types are represented? What are they? "
   ]
  },
  {
   "cell_type": "code",
   "execution_count": 22,
   "metadata": {},
   "outputs": [
    {
     "data": {
      "text/plain": [
       "array(['purchase_sword'], dtype=object)"
      ]
     },
     "execution_count": 22,
     "metadata": {},
     "output_type": "execute_result"
    }
   ],
   "source": [
    "df['event_type'].unique()"
   ]
  },
  {
   "cell_type": "markdown",
   "metadata": {},
   "source": [
    "#### What program was used to generate this event?"
   ]
  },
  {
   "cell_type": "code",
   "execution_count": 23,
   "metadata": {
    "scrolled": true
   },
   "outputs": [
    {
     "data": {
      "text/plain": [
       "array(['ApacheBench/2.3'], dtype=object)"
      ]
     },
     "execution_count": 23,
     "metadata": {},
     "output_type": "execute_result"
    }
   ],
   "source": [
    "df['User-Agent'].unique()"
   ]
  },
  {
   "cell_type": "markdown",
   "metadata": {},
   "source": [
    "#### What day of the week did these events occur? "
   ]
  },
  {
   "cell_type": "code",
   "execution_count": 24,
   "metadata": {
    "scrolled": true
   },
   "outputs": [
    {
     "data": {
      "text/plain": [
       "array(['Monday'], dtype=object)"
      ]
     },
     "execution_count": 24,
     "metadata": {},
     "output_type": "execute_result"
    }
   ],
   "source": [
    "# convert timestampe to datetime object\n",
    "df['timestamp_datetime'] = pd.to_datetime(df['timestamp'])\n",
    "# extract weekday name\n",
    "df['timestamp_datetime'].dt.weekday_name.unique()"
   ]
  },
  {
   "cell_type": "markdown",
   "metadata": {},
   "source": [
    "#### What hour did these events occur? "
   ]
  },
  {
   "cell_type": "code",
   "execution_count": 25,
   "metadata": {},
   "outputs": [
    {
     "data": {
      "text/plain": [
       "array([1])"
      ]
     },
     "execution_count": 25,
     "metadata": {},
     "output_type": "execute_result"
    }
   ],
   "source": [
    "# extract hour\n",
    "df['timestamp_datetime'].dt.hour.unique()"
   ]
  },
  {
   "cell_type": "markdown",
   "metadata": {},
   "source": [
    "#### What month did these events occur? "
   ]
  },
  {
   "cell_type": "code",
   "execution_count": 26,
   "metadata": {
    "scrolled": true
   },
   "outputs": [
    {
     "data": {
      "text/plain": [
       "array([4])"
      ]
     },
     "execution_count": 26,
     "metadata": {},
     "output_type": "execute_result"
    }
   ],
   "source": [
    "df['timestamp_datetime'].dt.month.unique()"
   ]
  },
  {
   "cell_type": "markdown",
   "metadata": {},
   "source": [
    "### Filter to select \"purchase_knife\" events\n",
    "\n",
    "In this section, I filter the Kafka events such that I remove all but the purchase_knife events. "
   ]
  },
  {
   "cell_type": "code",
   "execution_count": 27,
   "metadata": {
    "collapsed": true
   },
   "outputs": [],
   "source": [
    "# define predicate \n",
    "@udf('boolean')\n",
    "def is_purchase_knife(event_as_json):\n",
    "    event = json.loads(event_as_json)\n",
    "    if event['event_type'] == 'purchase_knife':\n",
    "        return True\n",
    "    return False"
   ]
  },
  {
   "cell_type": "code",
   "execution_count": 28,
   "metadata": {
    "collapsed": true
   },
   "outputs": [],
   "source": [
    "# extract purchase knife from raw events\n",
    "purchase_knife_events = raw_events \\\n",
    "        .select(raw_events.value.cast('string').alias('raw'),\n",
    "                raw_events.timestamp.cast('string')) \\\n",
    "        .filter(is_purchase_knife('raw'))"
   ]
  },
  {
   "cell_type": "code",
   "execution_count": 29,
   "metadata": {},
   "outputs": [
    {
     "name": "stdout",
     "output_type": "stream",
     "text": [
      "+--------------------+--------------------+\n",
      "|                 raw|           timestamp|\n",
      "+--------------------+--------------------+\n",
      "|{\"Host\": \"user1.c...|2020-04-13 01:25:...|\n",
      "|{\"Host\": \"user1.c...|2020-04-13 01:25:...|\n",
      "|{\"Host\": \"user1.c...|2020-04-13 01:25:...|\n",
      "|{\"Host\": \"user1.c...|2020-04-13 01:25:...|\n",
      "|{\"Host\": \"user1.c...|2020-04-13 01:25:...|\n",
      "|{\"Host\": \"user1.c...|2020-04-13 01:25:...|\n",
      "|{\"Host\": \"user1.c...|2020-04-13 01:25:...|\n",
      "|{\"Host\": \"user1.c...|2020-04-13 01:25:...|\n",
      "|{\"Host\": \"user1.c...|2020-04-13 01:25:...|\n",
      "|{\"Host\": \"user1.c...|2020-04-13 01:25:...|\n",
      "|{\"Host\": \"user2.a...|2020-04-13 01:25:...|\n",
      "|{\"Host\": \"user2.a...|2020-04-13 01:25:...|\n",
      "|{\"Host\": \"user2.a...|2020-04-13 01:25:...|\n",
      "|{\"Host\": \"user2.a...|2020-04-13 01:25:...|\n",
      "|{\"Host\": \"user2.a...|2020-04-13 01:25:...|\n",
      "|{\"Host\": \"user2.a...|2020-04-13 01:25:...|\n",
      "|{\"Host\": \"user2.a...|2020-04-13 01:25:...|\n",
      "|{\"Host\": \"user2.a...|2020-04-13 01:25:...|\n",
      "|{\"Host\": \"user2.a...|2020-04-13 01:25:...|\n",
      "|{\"Host\": \"user2.a...|2020-04-13 01:25:...|\n",
      "+--------------------+--------------------+\n",
      "\n"
     ]
    }
   ],
   "source": [
    "purchase_knife_events.show()"
   ]
  },
  {
   "cell_type": "code",
   "execution_count": 30,
   "metadata": {
    "collapsed": true
   },
   "outputs": [],
   "source": [
    "# lambda function\n",
    "extracted_purchase_knife_events = purchase_knife_events \\\n",
    "        .rdd \\\n",
    "        .map(lambda r: Row(timestamp=r.timestamp, **json.loads(r.raw))) \\\n",
    "        .toDF()\n"
   ]
  },
  {
   "cell_type": "code",
   "execution_count": 31,
   "metadata": {},
   "outputs": [
    {
     "name": "stdout",
     "output_type": "stream",
     "text": [
      "root\n",
      " |-- Accept: string (nullable = true)\n",
      " |-- Host: string (nullable = true)\n",
      " |-- User-Agent: string (nullable = true)\n",
      " |-- description: string (nullable = true)\n",
      " |-- event_type: string (nullable = true)\n",
      " |-- timestamp: string (nullable = true)\n",
      "\n"
     ]
    }
   ],
   "source": [
    "# view extracted purchases schema\n",
    "extracted_purchase_knife_events.printSchema()"
   ]
  },
  {
   "cell_type": "code",
   "execution_count": 32,
   "metadata": {},
   "outputs": [
    {
     "name": "stdout",
     "output_type": "stream",
     "text": [
      "+------+-----------------+---------------+----------------+--------------+--------------------+\n",
      "|Accept|             Host|     User-Agent|     description|    event_type|           timestamp|\n",
      "+------+-----------------+---------------+----------------+--------------+--------------------+\n",
      "|   */*|user1.comcast.com|ApacheBench/2.3|very sharp knife|purchase_knife|2020-04-13 01:25:...|\n",
      "|   */*|user1.comcast.com|ApacheBench/2.3|very sharp knife|purchase_knife|2020-04-13 01:25:...|\n",
      "|   */*|user1.comcast.com|ApacheBench/2.3|very sharp knife|purchase_knife|2020-04-13 01:25:...|\n",
      "|   */*|user1.comcast.com|ApacheBench/2.3|very sharp knife|purchase_knife|2020-04-13 01:25:...|\n",
      "|   */*|user1.comcast.com|ApacheBench/2.3|very sharp knife|purchase_knife|2020-04-13 01:25:...|\n",
      "|   */*|user1.comcast.com|ApacheBench/2.3|very sharp knife|purchase_knife|2020-04-13 01:25:...|\n",
      "|   */*|user1.comcast.com|ApacheBench/2.3|very sharp knife|purchase_knife|2020-04-13 01:25:...|\n",
      "|   */*|user1.comcast.com|ApacheBench/2.3|very sharp knife|purchase_knife|2020-04-13 01:25:...|\n",
      "|   */*|user1.comcast.com|ApacheBench/2.3|very sharp knife|purchase_knife|2020-04-13 01:25:...|\n",
      "|   */*|user1.comcast.com|ApacheBench/2.3|very sharp knife|purchase_knife|2020-04-13 01:25:...|\n",
      "|   */*|    user2.att.com|ApacheBench/2.3|very sharp knife|purchase_knife|2020-04-13 01:25:...|\n",
      "|   */*|    user2.att.com|ApacheBench/2.3|very sharp knife|purchase_knife|2020-04-13 01:25:...|\n",
      "|   */*|    user2.att.com|ApacheBench/2.3|very sharp knife|purchase_knife|2020-04-13 01:25:...|\n",
      "|   */*|    user2.att.com|ApacheBench/2.3|very sharp knife|purchase_knife|2020-04-13 01:25:...|\n",
      "|   */*|    user2.att.com|ApacheBench/2.3|very sharp knife|purchase_knife|2020-04-13 01:25:...|\n",
      "|   */*|    user2.att.com|ApacheBench/2.3|very sharp knife|purchase_knife|2020-04-13 01:25:...|\n",
      "|   */*|    user2.att.com|ApacheBench/2.3|very sharp knife|purchase_knife|2020-04-13 01:25:...|\n",
      "|   */*|    user2.att.com|ApacheBench/2.3|very sharp knife|purchase_knife|2020-04-13 01:25:...|\n",
      "|   */*|    user2.att.com|ApacheBench/2.3|very sharp knife|purchase_knife|2020-04-13 01:25:...|\n",
      "|   */*|    user2.att.com|ApacheBench/2.3|very sharp knife|purchase_knife|2020-04-13 01:25:...|\n",
      "+------+-----------------+---------------+----------------+--------------+--------------------+\n",
      "\n"
     ]
    }
   ],
   "source": [
    "# view extracted purchases\n",
    "extracted_purchase_knife_events.show()"
   ]
  },
  {
   "cell_type": "code",
   "execution_count": 33,
   "metadata": {
    "collapsed": true
   },
   "outputs": [],
   "source": [
    "# write to parquet file\n",
    "extracted_purchase_knife_events \\\n",
    "        .write \\\n",
    "        .mode('overwrite') \\\n",
    "        .parquet('/tmp/purchase_knives')"
   ]
  },
  {
   "cell_type": "code",
   "execution_count": 34,
   "metadata": {
    "collapsed": true
   },
   "outputs": [],
   "source": [
    "# read in from parquet file\n",
    "purchase_knives = spark.read.parquet('/tmp/purchase_knives')"
   ]
  },
  {
   "cell_type": "code",
   "execution_count": 35,
   "metadata": {},
   "outputs": [
    {
     "name": "stdout",
     "output_type": "stream",
     "text": [
      "+------+-----------------+---------------+----------------+--------------+--------------------+\n",
      "|Accept|             Host|     User-Agent|     description|    event_type|           timestamp|\n",
      "+------+-----------------+---------------+----------------+--------------+--------------------+\n",
      "|   */*|user1.comcast.com|ApacheBench/2.3|very sharp knife|purchase_knife|2020-04-13 01:25:...|\n",
      "|   */*|user1.comcast.com|ApacheBench/2.3|very sharp knife|purchase_knife|2020-04-13 01:25:...|\n",
      "|   */*|user1.comcast.com|ApacheBench/2.3|very sharp knife|purchase_knife|2020-04-13 01:25:...|\n",
      "|   */*|user1.comcast.com|ApacheBench/2.3|very sharp knife|purchase_knife|2020-04-13 01:25:...|\n",
      "|   */*|user1.comcast.com|ApacheBench/2.3|very sharp knife|purchase_knife|2020-04-13 01:25:...|\n",
      "|   */*|user1.comcast.com|ApacheBench/2.3|very sharp knife|purchase_knife|2020-04-13 01:25:...|\n",
      "|   */*|user1.comcast.com|ApacheBench/2.3|very sharp knife|purchase_knife|2020-04-13 01:25:...|\n",
      "|   */*|user1.comcast.com|ApacheBench/2.3|very sharp knife|purchase_knife|2020-04-13 01:25:...|\n",
      "|   */*|user1.comcast.com|ApacheBench/2.3|very sharp knife|purchase_knife|2020-04-13 01:25:...|\n",
      "|   */*|user1.comcast.com|ApacheBench/2.3|very sharp knife|purchase_knife|2020-04-13 01:25:...|\n",
      "|   */*|    user2.att.com|ApacheBench/2.3|very sharp knife|purchase_knife|2020-04-13 01:25:...|\n",
      "|   */*|    user2.att.com|ApacheBench/2.3|very sharp knife|purchase_knife|2020-04-13 01:25:...|\n",
      "|   */*|    user2.att.com|ApacheBench/2.3|very sharp knife|purchase_knife|2020-04-13 01:25:...|\n",
      "|   */*|    user2.att.com|ApacheBench/2.3|very sharp knife|purchase_knife|2020-04-13 01:25:...|\n",
      "|   */*|    user2.att.com|ApacheBench/2.3|very sharp knife|purchase_knife|2020-04-13 01:25:...|\n",
      "|   */*|    user2.att.com|ApacheBench/2.3|very sharp knife|purchase_knife|2020-04-13 01:25:...|\n",
      "|   */*|    user2.att.com|ApacheBench/2.3|very sharp knife|purchase_knife|2020-04-13 01:25:...|\n",
      "|   */*|    user2.att.com|ApacheBench/2.3|very sharp knife|purchase_knife|2020-04-13 01:25:...|\n",
      "|   */*|    user2.att.com|ApacheBench/2.3|very sharp knife|purchase_knife|2020-04-13 01:25:...|\n",
      "|   */*|    user2.att.com|ApacheBench/2.3|very sharp knife|purchase_knife|2020-04-13 01:25:...|\n",
      "+------+-----------------+---------------+----------------+--------------+--------------------+\n",
      "\n"
     ]
    }
   ],
   "source": [
    "# view purchases of knives\n",
    "purchase_knives.show()"
   ]
  },
  {
   "cell_type": "code",
   "execution_count": 36,
   "metadata": {
    "collapsed": true
   },
   "outputs": [],
   "source": [
    "# register temp table\n",
    "purchase_knives.registerTempTable('purchase_knives')"
   ]
  },
  {
   "cell_type": "code",
   "execution_count": 37,
   "metadata": {
    "collapsed": true
   },
   "outputs": [],
   "source": [
    "# query with spark sql\n",
    "purchase_knives = spark.sql(\"select * from purchase_knives\")"
   ]
  },
  {
   "cell_type": "code",
   "execution_count": 38,
   "metadata": {
    "collapsed": true
   },
   "outputs": [],
   "source": [
    "# convert to python pandas dataframe\n",
    "knives_df = purchase_knives.toPandas()"
   ]
  },
  {
   "cell_type": "code",
   "execution_count": 39,
   "metadata": {},
   "outputs": [
    {
     "data": {
      "text/html": [
       "<div>\n",
       "<style>\n",
       "    .dataframe thead tr:only-child th {\n",
       "        text-align: right;\n",
       "    }\n",
       "\n",
       "    .dataframe thead th {\n",
       "        text-align: left;\n",
       "    }\n",
       "\n",
       "    .dataframe tbody tr th {\n",
       "        vertical-align: top;\n",
       "    }\n",
       "</style>\n",
       "<table border=\"1\" class=\"dataframe\">\n",
       "  <thead>\n",
       "    <tr style=\"text-align: right;\">\n",
       "      <th></th>\n",
       "      <th>Accept</th>\n",
       "      <th>Host</th>\n",
       "      <th>User-Agent</th>\n",
       "      <th>description</th>\n",
       "      <th>event_type</th>\n",
       "      <th>timestamp</th>\n",
       "    </tr>\n",
       "  </thead>\n",
       "  <tbody>\n",
       "    <tr>\n",
       "      <th>0</th>\n",
       "      <td>*/*</td>\n",
       "      <td>user1.comcast.com</td>\n",
       "      <td>ApacheBench/2.3</td>\n",
       "      <td>very sharp knife</td>\n",
       "      <td>purchase_knife</td>\n",
       "      <td>2020-04-13 01:25:33.184</td>\n",
       "    </tr>\n",
       "    <tr>\n",
       "      <th>1</th>\n",
       "      <td>*/*</td>\n",
       "      <td>user1.comcast.com</td>\n",
       "      <td>ApacheBench/2.3</td>\n",
       "      <td>very sharp knife</td>\n",
       "      <td>purchase_knife</td>\n",
       "      <td>2020-04-13 01:25:33.188</td>\n",
       "    </tr>\n",
       "    <tr>\n",
       "      <th>2</th>\n",
       "      <td>*/*</td>\n",
       "      <td>user1.comcast.com</td>\n",
       "      <td>ApacheBench/2.3</td>\n",
       "      <td>very sharp knife</td>\n",
       "      <td>purchase_knife</td>\n",
       "      <td>2020-04-13 01:25:33.192</td>\n",
       "    </tr>\n",
       "    <tr>\n",
       "      <th>3</th>\n",
       "      <td>*/*</td>\n",
       "      <td>user1.comcast.com</td>\n",
       "      <td>ApacheBench/2.3</td>\n",
       "      <td>very sharp knife</td>\n",
       "      <td>purchase_knife</td>\n",
       "      <td>2020-04-13 01:25:33.197</td>\n",
       "    </tr>\n",
       "    <tr>\n",
       "      <th>4</th>\n",
       "      <td>*/*</td>\n",
       "      <td>user1.comcast.com</td>\n",
       "      <td>ApacheBench/2.3</td>\n",
       "      <td>very sharp knife</td>\n",
       "      <td>purchase_knife</td>\n",
       "      <td>2020-04-13 01:25:33.2</td>\n",
       "    </tr>\n",
       "  </tbody>\n",
       "</table>\n",
       "</div>"
      ],
      "text/plain": [
       "  Accept               Host       User-Agent       description  \\\n",
       "0    */*  user1.comcast.com  ApacheBench/2.3  very sharp knife   \n",
       "1    */*  user1.comcast.com  ApacheBench/2.3  very sharp knife   \n",
       "2    */*  user1.comcast.com  ApacheBench/2.3  very sharp knife   \n",
       "3    */*  user1.comcast.com  ApacheBench/2.3  very sharp knife   \n",
       "4    */*  user1.comcast.com  ApacheBench/2.3  very sharp knife   \n",
       "\n",
       "       event_type                timestamp  \n",
       "0  purchase_knife  2020-04-13 01:25:33.184  \n",
       "1  purchase_knife  2020-04-13 01:25:33.188  \n",
       "2  purchase_knife  2020-04-13 01:25:33.192  \n",
       "3  purchase_knife  2020-04-13 01:25:33.197  \n",
       "4  purchase_knife    2020-04-13 01:25:33.2  "
      ]
     },
     "execution_count": 39,
     "metadata": {},
     "output_type": "execute_result"
    }
   ],
   "source": [
    "# view dataframe\n",
    "knives_df.head()"
   ]
  },
  {
   "cell_type": "markdown",
   "metadata": {},
   "source": [
    "### Analysis\n",
    "\n",
    "In this section, I perform some basic analyses about the purchase_knife events. This code can be used to generate similar descriptions of other events generated using this same pipeline. "
   ]
  },
  {
   "cell_type": "code",
   "execution_count": 40,
   "metadata": {},
   "outputs": [
    {
     "data": {
      "text/html": [
       "<div>\n",
       "<style>\n",
       "    .dataframe thead tr:only-child th {\n",
       "        text-align: right;\n",
       "    }\n",
       "\n",
       "    .dataframe thead th {\n",
       "        text-align: left;\n",
       "    }\n",
       "\n",
       "    .dataframe tbody tr th {\n",
       "        vertical-align: top;\n",
       "    }\n",
       "</style>\n",
       "<table border=\"1\" class=\"dataframe\">\n",
       "  <thead>\n",
       "    <tr style=\"text-align: right;\">\n",
       "      <th></th>\n",
       "      <th>Accept</th>\n",
       "      <th>Host</th>\n",
       "      <th>User-Agent</th>\n",
       "      <th>description</th>\n",
       "      <th>event_type</th>\n",
       "      <th>timestamp</th>\n",
       "    </tr>\n",
       "  </thead>\n",
       "  <tbody>\n",
       "    <tr>\n",
       "      <th>count</th>\n",
       "      <td>20</td>\n",
       "      <td>20</td>\n",
       "      <td>20</td>\n",
       "      <td>20</td>\n",
       "      <td>20</td>\n",
       "      <td>20</td>\n",
       "    </tr>\n",
       "    <tr>\n",
       "      <th>unique</th>\n",
       "      <td>1</td>\n",
       "      <td>2</td>\n",
       "      <td>1</td>\n",
       "      <td>1</td>\n",
       "      <td>1</td>\n",
       "      <td>20</td>\n",
       "    </tr>\n",
       "    <tr>\n",
       "      <th>top</th>\n",
       "      <td>*/*</td>\n",
       "      <td>user1.comcast.com</td>\n",
       "      <td>ApacheBench/2.3</td>\n",
       "      <td>very sharp knife</td>\n",
       "      <td>purchase_knife</td>\n",
       "      <td>2020-04-13 01:25:37.021</td>\n",
       "    </tr>\n",
       "    <tr>\n",
       "      <th>freq</th>\n",
       "      <td>20</td>\n",
       "      <td>10</td>\n",
       "      <td>20</td>\n",
       "      <td>20</td>\n",
       "      <td>20</td>\n",
       "      <td>1</td>\n",
       "    </tr>\n",
       "  </tbody>\n",
       "</table>\n",
       "</div>"
      ],
      "text/plain": [
       "       Accept               Host       User-Agent       description  \\\n",
       "count      20                 20               20                20   \n",
       "unique      1                  2                1                 1   \n",
       "top       */*  user1.comcast.com  ApacheBench/2.3  very sharp knife   \n",
       "freq       20                 10               20                20   \n",
       "\n",
       "            event_type                timestamp  \n",
       "count               20                       20  \n",
       "unique               1                       20  \n",
       "top     purchase_knife  2020-04-13 01:25:37.021  \n",
       "freq                20                        1  "
      ]
     },
     "execution_count": 40,
     "metadata": {},
     "output_type": "execute_result"
    }
   ],
   "source": [
    "# view descriptive stats \n",
    "knives_df.describe()"
   ]
  },
  {
   "cell_type": "markdown",
   "metadata": {
    "collapsed": true,
    "jupyter": {
     "outputs_hidden": true
    }
   },
   "source": [
    "#### How many unique users are represented in this dataframe? What are their host name(s)? "
   ]
  },
  {
   "cell_type": "code",
   "execution_count": 41,
   "metadata": {},
   "outputs": [
    {
     "data": {
      "text/plain": [
       "array(['user1.comcast.com', 'user2.att.com'], dtype=object)"
      ]
     },
     "execution_count": 41,
     "metadata": {},
     "output_type": "execute_result"
    }
   ],
   "source": [
    "knives_df['Host'].unique()"
   ]
  },
  {
   "cell_type": "markdown",
   "metadata": {},
   "source": [
    "#### How many unique event types are represented? What are they? "
   ]
  },
  {
   "cell_type": "code",
   "execution_count": 42,
   "metadata": {},
   "outputs": [
    {
     "data": {
      "text/plain": [
       "array(['purchase_knife'], dtype=object)"
      ]
     },
     "execution_count": 42,
     "metadata": {},
     "output_type": "execute_result"
    }
   ],
   "source": [
    "knives_df['event_type'].unique()"
   ]
  },
  {
   "cell_type": "markdown",
   "metadata": {},
   "source": [
    "#### What program was used to generate this event?"
   ]
  },
  {
   "cell_type": "code",
   "execution_count": 43,
   "metadata": {
    "scrolled": true
   },
   "outputs": [
    {
     "data": {
      "text/plain": [
       "array(['ApacheBench/2.3'], dtype=object)"
      ]
     },
     "execution_count": 43,
     "metadata": {},
     "output_type": "execute_result"
    }
   ],
   "source": [
    "knives_df['User-Agent'].unique()"
   ]
  },
  {
   "cell_type": "markdown",
   "metadata": {},
   "source": [
    "#### What day of the week did these events occur? "
   ]
  },
  {
   "cell_type": "code",
   "execution_count": 44,
   "metadata": {
    "scrolled": true
   },
   "outputs": [
    {
     "data": {
      "text/plain": [
       "array(['Monday'], dtype=object)"
      ]
     },
     "execution_count": 44,
     "metadata": {},
     "output_type": "execute_result"
    }
   ],
   "source": [
    "# convert timestampe to datetime object\n",
    "knives_df['timestamp_datetime'] = pd.to_datetime(knives_df['timestamp'])\n",
    "# extract weekday name\n",
    "knives_df['timestamp_datetime'].dt.weekday_name.unique()"
   ]
  },
  {
   "cell_type": "markdown",
   "metadata": {},
   "source": [
    "#### What hour did these events occur? "
   ]
  },
  {
   "cell_type": "code",
   "execution_count": 45,
   "metadata": {},
   "outputs": [
    {
     "data": {
      "text/plain": [
       "array([1])"
      ]
     },
     "execution_count": 45,
     "metadata": {},
     "output_type": "execute_result"
    }
   ],
   "source": [
    "# extract hour\n",
    "knives_df['timestamp_datetime'].dt.hour.unique()"
   ]
  },
  {
   "cell_type": "markdown",
   "metadata": {},
   "source": [
    "#### What month did these events occur? "
   ]
  },
  {
   "cell_type": "code",
   "execution_count": 46,
   "metadata": {
    "scrolled": true
   },
   "outputs": [
    {
     "data": {
      "text/plain": [
       "array([4])"
      ]
     },
     "execution_count": 46,
     "metadata": {},
     "output_type": "execute_result"
    }
   ],
   "source": [
    "knives_df['timestamp_datetime'].dt.month.unique()"
   ]
  },
  {
   "cell_type": "markdown",
   "metadata": {},
   "source": [
    "#### What unique descriptions do we see of these knives?"
   ]
  },
  {
   "cell_type": "code",
   "execution_count": 47,
   "metadata": {},
   "outputs": [
    {
     "data": {
      "text/plain": [
       "array(['very sharp knife'], dtype=object)"
      ]
     },
     "execution_count": 47,
     "metadata": {},
     "output_type": "execute_result"
    }
   ],
   "source": [
    "knives_df['description'].unique()"
   ]
  },
  {
   "cell_type": "markdown",
   "metadata": {
    "collapsed": true
   },
   "source": [
    "### Filter to select any type of \"declare\" events\n",
    "\n",
    "In this section, I filter the Kafka events such that I remove all but the events that involve a declaration. "
   ]
  },
  {
   "cell_type": "code",
   "execution_count": 48,
   "metadata": {
    "collapsed": true
   },
   "outputs": [],
   "source": [
    "# define predicate \n",
    "@udf('boolean')\n",
    "def is_declare(event_as_json):\n",
    "    event = json.loads(event_as_json)\n",
    "    if event['event_type'].startswith('declare'):\n",
    "        return True\n",
    "    return False"
   ]
  },
  {
   "cell_type": "code",
   "execution_count": 49,
   "metadata": {},
   "outputs": [
    {
     "name": "stdout",
     "output_type": "stream",
     "text": [
      "+--------------------+--------------------+\n",
      "|                 raw|           timestamp|\n",
      "+--------------------+--------------------+\n",
      "|{\"Host\": \"user1.c...|2020-04-13 01:25:...|\n",
      "|{\"Host\": \"user1.c...|2020-04-13 01:25:...|\n",
      "|{\"Host\": \"user1.c...|2020-04-13 01:25:...|\n",
      "|{\"Host\": \"user1.c...|2020-04-13 01:25:...|\n",
      "|{\"Host\": \"user1.c...|2020-04-13 01:25:...|\n",
      "|{\"Host\": \"user1.c...|2020-04-13 01:25:...|\n",
      "|{\"Host\": \"user1.c...|2020-04-13 01:25:...|\n",
      "|{\"Host\": \"user1.c...|2020-04-13 01:25:...|\n",
      "|{\"Host\": \"user1.c...|2020-04-13 01:25:...|\n",
      "|{\"Host\": \"user1.c...|2020-04-13 01:25:...|\n",
      "|{\"Host\": \"user2.a...|2020-04-13 01:26:...|\n",
      "|{\"Host\": \"user2.a...|2020-04-13 01:26:...|\n",
      "|{\"Host\": \"user2.a...|2020-04-13 01:26:...|\n",
      "|{\"Host\": \"user2.a...|2020-04-13 01:26:...|\n",
      "|{\"Host\": \"user2.a...|2020-04-13 01:26:...|\n",
      "|{\"Host\": \"user2.a...|2020-04-13 01:26:...|\n",
      "|{\"Host\": \"user2.a...|2020-04-13 01:26:...|\n",
      "|{\"Host\": \"user2.a...|2020-04-13 01:26:...|\n",
      "|{\"Host\": \"user2.a...|2020-04-13 01:26:...|\n",
      "|{\"Host\": \"user2.a...|2020-04-13 01:26:...|\n",
      "+--------------------+--------------------+\n",
      "only showing top 20 rows\n",
      "\n"
     ]
    }
   ],
   "source": [
    "# extract declarations from raw events\n",
    "declare_events = raw_events \\\n",
    "        .select(raw_events.value.cast('string').alias('raw'),\n",
    "                raw_events.timestamp.cast('string')) \\\n",
    "        .filter(is_declare('raw'))\n",
    "        \n",
    "declare_events.show()"
   ]
  },
  {
   "cell_type": "code",
   "execution_count": 50,
   "metadata": {},
   "outputs": [
    {
     "name": "stdout",
     "output_type": "stream",
     "text": [
      "root\n",
      " |-- Accept: string (nullable = true)\n",
      " |-- Host: string (nullable = true)\n",
      " |-- User-Agent: string (nullable = true)\n",
      " |-- description: string (nullable = true)\n",
      " |-- event_type: string (nullable = true)\n",
      " |-- timestamp: string (nullable = true)\n",
      "\n"
     ]
    }
   ],
   "source": [
    "# lambda function\n",
    "extracted_declare_events = declare_events \\\n",
    "        .rdd \\\n",
    "        .map(lambda r: Row(timestamp=r.timestamp, **json.loads(r.raw))) \\\n",
    "        .toDF()\n",
    "\n",
    "# view schema\n",
    "extracted_declare_events.printSchema()"
   ]
  },
  {
   "cell_type": "code",
   "execution_count": 51,
   "metadata": {},
   "outputs": [
    {
     "name": "stdout",
     "output_type": "stream",
     "text": [
      "+------+-----------------+---------------+------------+--------------+--------------------+\n",
      "|Accept|             Host|     User-Agent| description|    event_type|           timestamp|\n",
      "+------+-----------------+---------------+------------+--------------+--------------------+\n",
      "|   */*|user1.comcast.com|ApacheBench/2.3|great leader|declare_fealty|2020-04-13 01:25:...|\n",
      "|   */*|user1.comcast.com|ApacheBench/2.3|great leader|declare_fealty|2020-04-13 01:25:...|\n",
      "|   */*|user1.comcast.com|ApacheBench/2.3|great leader|declare_fealty|2020-04-13 01:25:...|\n",
      "|   */*|user1.comcast.com|ApacheBench/2.3|great leader|declare_fealty|2020-04-13 01:25:...|\n",
      "|   */*|user1.comcast.com|ApacheBench/2.3|great leader|declare_fealty|2020-04-13 01:25:...|\n",
      "|   */*|user1.comcast.com|ApacheBench/2.3|great leader|declare_fealty|2020-04-13 01:25:...|\n",
      "|   */*|user1.comcast.com|ApacheBench/2.3|great leader|declare_fealty|2020-04-13 01:25:...|\n",
      "|   */*|user1.comcast.com|ApacheBench/2.3|great leader|declare_fealty|2020-04-13 01:25:...|\n",
      "|   */*|user1.comcast.com|ApacheBench/2.3|great leader|declare_fealty|2020-04-13 01:25:...|\n",
      "|   */*|user1.comcast.com|ApacheBench/2.3|great leader|declare_fealty|2020-04-13 01:25:...|\n",
      "|   */*|    user2.att.com|ApacheBench/2.3|great leader|declare_fealty|2020-04-13 01:26:...|\n",
      "|   */*|    user2.att.com|ApacheBench/2.3|great leader|declare_fealty|2020-04-13 01:26:...|\n",
      "|   */*|    user2.att.com|ApacheBench/2.3|great leader|declare_fealty|2020-04-13 01:26:...|\n",
      "|   */*|    user2.att.com|ApacheBench/2.3|great leader|declare_fealty|2020-04-13 01:26:...|\n",
      "|   */*|    user2.att.com|ApacheBench/2.3|great leader|declare_fealty|2020-04-13 01:26:...|\n",
      "|   */*|    user2.att.com|ApacheBench/2.3|great leader|declare_fealty|2020-04-13 01:26:...|\n",
      "|   */*|    user2.att.com|ApacheBench/2.3|great leader|declare_fealty|2020-04-13 01:26:...|\n",
      "|   */*|    user2.att.com|ApacheBench/2.3|great leader|declare_fealty|2020-04-13 01:26:...|\n",
      "|   */*|    user2.att.com|ApacheBench/2.3|great leader|declare_fealty|2020-04-13 01:26:...|\n",
      "|   */*|    user2.att.com|ApacheBench/2.3|great leader|declare_fealty|2020-04-13 01:26:...|\n",
      "+------+-----------------+---------------+------------+--------------+--------------------+\n",
      "only showing top 20 rows\n",
      "\n"
     ]
    }
   ],
   "source": [
    "# view extracted events\n",
    "extracted_declare_events.show()"
   ]
  },
  {
   "cell_type": "code",
   "execution_count": 52,
   "metadata": {},
   "outputs": [
    {
     "name": "stdout",
     "output_type": "stream",
     "text": [
      "+------+-----------------+---------------+------------+--------------+--------------------+\n",
      "|Accept|             Host|     User-Agent| description|    event_type|           timestamp|\n",
      "+------+-----------------+---------------+------------+--------------+--------------------+\n",
      "|   */*|user1.comcast.com|ApacheBench/2.3|great leader|declare_fealty|2020-04-13 01:25:...|\n",
      "|   */*|user1.comcast.com|ApacheBench/2.3|great leader|declare_fealty|2020-04-13 01:25:...|\n",
      "|   */*|user1.comcast.com|ApacheBench/2.3|great leader|declare_fealty|2020-04-13 01:25:...|\n",
      "|   */*|user1.comcast.com|ApacheBench/2.3|great leader|declare_fealty|2020-04-13 01:25:...|\n",
      "|   */*|user1.comcast.com|ApacheBench/2.3|great leader|declare_fealty|2020-04-13 01:25:...|\n",
      "|   */*|user1.comcast.com|ApacheBench/2.3|great leader|declare_fealty|2020-04-13 01:25:...|\n",
      "|   */*|user1.comcast.com|ApacheBench/2.3|great leader|declare_fealty|2020-04-13 01:25:...|\n",
      "|   */*|user1.comcast.com|ApacheBench/2.3|great leader|declare_fealty|2020-04-13 01:25:...|\n",
      "|   */*|user1.comcast.com|ApacheBench/2.3|great leader|declare_fealty|2020-04-13 01:25:...|\n",
      "|   */*|user1.comcast.com|ApacheBench/2.3|great leader|declare_fealty|2020-04-13 01:25:...|\n",
      "|   */*|    user2.att.com|ApacheBench/2.3|great leader|declare_fealty|2020-04-13 01:26:...|\n",
      "|   */*|    user2.att.com|ApacheBench/2.3|great leader|declare_fealty|2020-04-13 01:26:...|\n",
      "|   */*|    user2.att.com|ApacheBench/2.3|great leader|declare_fealty|2020-04-13 01:26:...|\n",
      "|   */*|    user2.att.com|ApacheBench/2.3|great leader|declare_fealty|2020-04-13 01:26:...|\n",
      "|   */*|    user2.att.com|ApacheBench/2.3|great leader|declare_fealty|2020-04-13 01:26:...|\n",
      "|   */*|    user2.att.com|ApacheBench/2.3|great leader|declare_fealty|2020-04-13 01:26:...|\n",
      "|   */*|    user2.att.com|ApacheBench/2.3|great leader|declare_fealty|2020-04-13 01:26:...|\n",
      "|   */*|    user2.att.com|ApacheBench/2.3|great leader|declare_fealty|2020-04-13 01:26:...|\n",
      "|   */*|    user2.att.com|ApacheBench/2.3|great leader|declare_fealty|2020-04-13 01:26:...|\n",
      "|   */*|    user2.att.com|ApacheBench/2.3|great leader|declare_fealty|2020-04-13 01:26:...|\n",
      "+------+-----------------+---------------+------------+--------------+--------------------+\n",
      "only showing top 20 rows\n",
      "\n"
     ]
    }
   ],
   "source": [
    "# write to parquet file\n",
    "extracted_declare_events \\\n",
    "        .write \\\n",
    "        .mode('overwrite') \\\n",
    "        .parquet('/tmp/declare')\n",
    "        \n",
    "# read in from parquet file\n",
    "declare = spark.read.parquet('/tmp/declare')\n",
    "\n",
    "# view \n",
    "declare.show()"
   ]
  },
  {
   "cell_type": "code",
   "execution_count": 53,
   "metadata": {
    "collapsed": true
   },
   "outputs": [],
   "source": [
    "# register temp table\n",
    "declare.registerTempTable('declare')\n",
    "\n",
    "# query with spark sql\n",
    "declare = spark.sql(\"select * from declare\")"
   ]
  },
  {
   "cell_type": "code",
   "execution_count": 54,
   "metadata": {},
   "outputs": [
    {
     "data": {
      "text/html": [
       "<div>\n",
       "<style>\n",
       "    .dataframe thead tr:only-child th {\n",
       "        text-align: right;\n",
       "    }\n",
       "\n",
       "    .dataframe thead th {\n",
       "        text-align: left;\n",
       "    }\n",
       "\n",
       "    .dataframe tbody tr th {\n",
       "        vertical-align: top;\n",
       "    }\n",
       "</style>\n",
       "<table border=\"1\" class=\"dataframe\">\n",
       "  <thead>\n",
       "    <tr style=\"text-align: right;\">\n",
       "      <th></th>\n",
       "      <th>Accept</th>\n",
       "      <th>Host</th>\n",
       "      <th>User-Agent</th>\n",
       "      <th>description</th>\n",
       "      <th>event_type</th>\n",
       "      <th>timestamp</th>\n",
       "    </tr>\n",
       "  </thead>\n",
       "  <tbody>\n",
       "    <tr>\n",
       "      <th>0</th>\n",
       "      <td>*/*</td>\n",
       "      <td>user1.comcast.com</td>\n",
       "      <td>ApacheBench/2.3</td>\n",
       "      <td>great leader</td>\n",
       "      <td>declare_fealty</td>\n",
       "      <td>2020-04-13 01:25:57.512</td>\n",
       "    </tr>\n",
       "    <tr>\n",
       "      <th>1</th>\n",
       "      <td>*/*</td>\n",
       "      <td>user1.comcast.com</td>\n",
       "      <td>ApacheBench/2.3</td>\n",
       "      <td>great leader</td>\n",
       "      <td>declare_fealty</td>\n",
       "      <td>2020-04-13 01:25:57.517</td>\n",
       "    </tr>\n",
       "    <tr>\n",
       "      <th>2</th>\n",
       "      <td>*/*</td>\n",
       "      <td>user1.comcast.com</td>\n",
       "      <td>ApacheBench/2.3</td>\n",
       "      <td>great leader</td>\n",
       "      <td>declare_fealty</td>\n",
       "      <td>2020-04-13 01:25:57.52</td>\n",
       "    </tr>\n",
       "    <tr>\n",
       "      <th>3</th>\n",
       "      <td>*/*</td>\n",
       "      <td>user1.comcast.com</td>\n",
       "      <td>ApacheBench/2.3</td>\n",
       "      <td>great leader</td>\n",
       "      <td>declare_fealty</td>\n",
       "      <td>2020-04-13 01:25:57.524</td>\n",
       "    </tr>\n",
       "    <tr>\n",
       "      <th>4</th>\n",
       "      <td>*/*</td>\n",
       "      <td>user1.comcast.com</td>\n",
       "      <td>ApacheBench/2.3</td>\n",
       "      <td>great leader</td>\n",
       "      <td>declare_fealty</td>\n",
       "      <td>2020-04-13 01:25:57.529</td>\n",
       "    </tr>\n",
       "  </tbody>\n",
       "</table>\n",
       "</div>"
      ],
      "text/plain": [
       "  Accept               Host       User-Agent   description      event_type  \\\n",
       "0    */*  user1.comcast.com  ApacheBench/2.3  great leader  declare_fealty   \n",
       "1    */*  user1.comcast.com  ApacheBench/2.3  great leader  declare_fealty   \n",
       "2    */*  user1.comcast.com  ApacheBench/2.3  great leader  declare_fealty   \n",
       "3    */*  user1.comcast.com  ApacheBench/2.3  great leader  declare_fealty   \n",
       "4    */*  user1.comcast.com  ApacheBench/2.3  great leader  declare_fealty   \n",
       "\n",
       "                 timestamp  \n",
       "0  2020-04-13 01:25:57.512  \n",
       "1  2020-04-13 01:25:57.517  \n",
       "2   2020-04-13 01:25:57.52  \n",
       "3  2020-04-13 01:25:57.524  \n",
       "4  2020-04-13 01:25:57.529  "
      ]
     },
     "execution_count": 54,
     "metadata": {},
     "output_type": "execute_result"
    }
   ],
   "source": [
    "# convert to python pandas dataframe\n",
    "declare_df = declare.toPandas()\n",
    "\n",
    "# view first rows\n",
    "declare_df.head()"
   ]
  },
  {
   "cell_type": "code",
   "execution_count": 56,
   "metadata": {},
   "outputs": [
    {
     "data": {
      "text/html": [
       "<div>\n",
       "<style>\n",
       "    .dataframe thead tr:only-child th {\n",
       "        text-align: right;\n",
       "    }\n",
       "\n",
       "    .dataframe thead th {\n",
       "        text-align: left;\n",
       "    }\n",
       "\n",
       "    .dataframe tbody tr th {\n",
       "        vertical-align: top;\n",
       "    }\n",
       "</style>\n",
       "<table border=\"1\" class=\"dataframe\">\n",
       "  <thead>\n",
       "    <tr style=\"text-align: right;\">\n",
       "      <th></th>\n",
       "      <th>Accept</th>\n",
       "      <th>Host</th>\n",
       "      <th>User-Agent</th>\n",
       "      <th>description</th>\n",
       "      <th>event_type</th>\n",
       "      <th>timestamp</th>\n",
       "    </tr>\n",
       "  </thead>\n",
       "  <tbody>\n",
       "    <tr>\n",
       "      <th>35</th>\n",
       "      <td>*/*</td>\n",
       "      <td>user2.att.com</td>\n",
       "      <td>ApacheBench/2.3</td>\n",
       "      <td>bloody war</td>\n",
       "      <td>declare_war</td>\n",
       "      <td>2020-04-13 01:26:09.738</td>\n",
       "    </tr>\n",
       "    <tr>\n",
       "      <th>36</th>\n",
       "      <td>*/*</td>\n",
       "      <td>user2.att.com</td>\n",
       "      <td>ApacheBench/2.3</td>\n",
       "      <td>bloody war</td>\n",
       "      <td>declare_war</td>\n",
       "      <td>2020-04-13 01:26:09.741</td>\n",
       "    </tr>\n",
       "    <tr>\n",
       "      <th>37</th>\n",
       "      <td>*/*</td>\n",
       "      <td>user2.att.com</td>\n",
       "      <td>ApacheBench/2.3</td>\n",
       "      <td>bloody war</td>\n",
       "      <td>declare_war</td>\n",
       "      <td>2020-04-13 01:26:09.745</td>\n",
       "    </tr>\n",
       "    <tr>\n",
       "      <th>38</th>\n",
       "      <td>*/*</td>\n",
       "      <td>user2.att.com</td>\n",
       "      <td>ApacheBench/2.3</td>\n",
       "      <td>bloody war</td>\n",
       "      <td>declare_war</td>\n",
       "      <td>2020-04-13 01:26:09.754</td>\n",
       "    </tr>\n",
       "    <tr>\n",
       "      <th>39</th>\n",
       "      <td>*/*</td>\n",
       "      <td>user2.att.com</td>\n",
       "      <td>ApacheBench/2.3</td>\n",
       "      <td>bloody war</td>\n",
       "      <td>declare_war</td>\n",
       "      <td>2020-04-13 01:26:09.758</td>\n",
       "    </tr>\n",
       "  </tbody>\n",
       "</table>\n",
       "</div>"
      ],
      "text/plain": [
       "   Accept           Host       User-Agent description   event_type  \\\n",
       "35    */*  user2.att.com  ApacheBench/2.3  bloody war  declare_war   \n",
       "36    */*  user2.att.com  ApacheBench/2.3  bloody war  declare_war   \n",
       "37    */*  user2.att.com  ApacheBench/2.3  bloody war  declare_war   \n",
       "38    */*  user2.att.com  ApacheBench/2.3  bloody war  declare_war   \n",
       "39    */*  user2.att.com  ApacheBench/2.3  bloody war  declare_war   \n",
       "\n",
       "                  timestamp  \n",
       "35  2020-04-13 01:26:09.738  \n",
       "36  2020-04-13 01:26:09.741  \n",
       "37  2020-04-13 01:26:09.745  \n",
       "38  2020-04-13 01:26:09.754  \n",
       "39  2020-04-13 01:26:09.758  "
      ]
     },
     "execution_count": 56,
     "metadata": {},
     "output_type": "execute_result"
    }
   ],
   "source": [
    "# view last rows\n",
    "declare_df.tail()"
   ]
  },
  {
   "cell_type": "markdown",
   "metadata": {},
   "source": [
    "### Analysis\n",
    "\n",
    "In this section, I generate one simple table of descriptive statistics. You can use code from the analysis sections above to dig deeper into the declare event data.  "
   ]
  },
  {
   "cell_type": "code",
   "execution_count": 55,
   "metadata": {},
   "outputs": [
    {
     "data": {
      "text/html": [
       "<div>\n",
       "<style>\n",
       "    .dataframe thead tr:only-child th {\n",
       "        text-align: right;\n",
       "    }\n",
       "\n",
       "    .dataframe thead th {\n",
       "        text-align: left;\n",
       "    }\n",
       "\n",
       "    .dataframe tbody tr th {\n",
       "        vertical-align: top;\n",
       "    }\n",
       "</style>\n",
       "<table border=\"1\" class=\"dataframe\">\n",
       "  <thead>\n",
       "    <tr style=\"text-align: right;\">\n",
       "      <th></th>\n",
       "      <th>Accept</th>\n",
       "      <th>Host</th>\n",
       "      <th>User-Agent</th>\n",
       "      <th>description</th>\n",
       "      <th>event_type</th>\n",
       "      <th>timestamp</th>\n",
       "    </tr>\n",
       "  </thead>\n",
       "  <tbody>\n",
       "    <tr>\n",
       "      <th>count</th>\n",
       "      <td>40</td>\n",
       "      <td>40</td>\n",
       "      <td>40</td>\n",
       "      <td>40</td>\n",
       "      <td>40</td>\n",
       "      <td>40</td>\n",
       "    </tr>\n",
       "    <tr>\n",
       "      <th>unique</th>\n",
       "      <td>1</td>\n",
       "      <td>2</td>\n",
       "      <td>1</td>\n",
       "      <td>2</td>\n",
       "      <td>2</td>\n",
       "      <td>40</td>\n",
       "    </tr>\n",
       "    <tr>\n",
       "      <th>top</th>\n",
       "      <td>*/*</td>\n",
       "      <td>user1.comcast.com</td>\n",
       "      <td>ApacheBench/2.3</td>\n",
       "      <td>great leader</td>\n",
       "      <td>declare_war</td>\n",
       "      <td>2020-04-13 01:26:09.754</td>\n",
       "    </tr>\n",
       "    <tr>\n",
       "      <th>freq</th>\n",
       "      <td>40</td>\n",
       "      <td>20</td>\n",
       "      <td>40</td>\n",
       "      <td>20</td>\n",
       "      <td>20</td>\n",
       "      <td>1</td>\n",
       "    </tr>\n",
       "  </tbody>\n",
       "</table>\n",
       "</div>"
      ],
      "text/plain": [
       "       Accept               Host       User-Agent   description   event_type  \\\n",
       "count      40                 40               40            40           40   \n",
       "unique      1                  2                1             2            2   \n",
       "top       */*  user1.comcast.com  ApacheBench/2.3  great leader  declare_war   \n",
       "freq       40                 20               40            20           20   \n",
       "\n",
       "                      timestamp  \n",
       "count                        40  \n",
       "unique                       40  \n",
       "top     2020-04-13 01:26:09.754  \n",
       "freq                          1  "
      ]
     },
     "execution_count": 55,
     "metadata": {},
     "output_type": "execute_result"
    }
   ],
   "source": [
    "# view descriptive stats \n",
    "declare_df.describe()"
   ]
  },
  {
   "cell_type": "markdown",
   "metadata": {},
   "source": [
    "### Other events \n",
    "\n",
    "The previous sections filtered events of the following types:\n",
    "\n",
    "- purchase_sword\n",
    "- purchase_knife\n",
    "- declare_fealty\n",
    "- declare_war\n",
    "\n",
    "There are two additional event types that can occur with this API. You can adjust the code defining your predicate for filtering in order to pull these from the Kafka event log. \n",
    "\n",
    "- purchase_shield\n",
    "- join_guild"
   ]
  },
  {
   "cell_type": "code",
   "execution_count": null,
   "metadata": {
    "collapsed": true
   },
   "outputs": [],
   "source": []
  }
 ],
 "metadata": {
  "kernelspec": {
   "display_name": "Python 3",
   "language": "python",
   "name": "python3"
  },
  "language_info": {
   "codemirror_mode": {
    "name": "ipython",
    "version": 3
   },
   "file_extension": ".py",
   "mimetype": "text/x-python",
   "name": "python",
   "nbconvert_exporter": "python",
   "pygments_lexer": "ipython3",
   "version": "3.6.1"
  }
 },
 "nbformat": 4,
 "nbformat_minor": 4
}
